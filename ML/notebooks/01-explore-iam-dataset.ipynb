{
 "cells": [
  {
   "cell_type": "code",
   "execution_count": 1,
   "id": "entire-prime",
   "metadata": {},
   "outputs": [],
   "source": [
    "import os\n",
    "%matplotlib inline\n",
    "import matplotlib.pyplot as plt\n",
    "\n",
    "import numpy as np\n",
    "\n",
    "%load_ext autoreload\n",
    "%autoreload 2\n",
    "\n",
    "from importlib.util import find_spec\n",
    "if find_spec(\"text_recognizer\") is None:\n",
    "    import sys\n",
    "    sys.path.append('..')"
   ]
  },
  {
   "cell_type": "code",
   "execution_count": 9,
   "id": "false-telephone",
   "metadata": {},
   "outputs": [],
   "source": [
    "from text_recognizer.data import IAMLines\n",
    "import argparse"
   ]
  },
  {
   "cell_type": "code",
   "execution_count": 11,
   "id": "sudden-tuner",
   "metadata": {},
   "outputs": [
    {
     "output_type": "stream",
     "name": "stdout",
     "text": [
      "Cropping IAM line regions...\n",
      "Saving images, labels, and statistics...\n",
      "IAM Lines Dataset\n",
      "Num classes: 83\n",
      "Dims: (1, 56, 1024)\n",
      "Output dims: (89, 1)\n",
      "Train/val/test sizes: 9120, 2280, 1953\n",
      "Train Batch x stats: (torch.Size([128, 1, 56, 1024]), torch.float32, tensor(0.), tensor(0.0398), tensor(0.1105), tensor(1.))\n",
      "Train Batch y stats: (torch.Size([128, 89]), torch.int64, tensor(1), tensor(82))\n",
      "Test Batch x stats: (torch.Size([128, 1, 56, 1024]), torch.float32, tensor(0.), tensor(0.0302), tensor(0.0918), tensor(0.8980))\n",
      "Test Batch y stats: (torch.Size([128, 89]), torch.int64, tensor(1), tensor(82))\n",
      "\n"
     ]
    }
   ],
   "source": [
    "dataset = IAMLines(argparse.Namespace(augment_data='false'))\n",
    "dataset.prepare_data()\n",
    "dataset.setup()\n",
    "print(dataset)"
   ]
  },
  {
   "cell_type": "code",
   "execution_count": null,
   "id": "embedded-kitty",
   "metadata": {},
   "outputs": [],
   "source": []
  }
 ],
 "metadata": {
  "kernelspec": {
   "display_name": "Python 3",
   "language": "python",
   "name": "python3"
  },
  "language_info": {
   "codemirror_mode": {
    "name": "ipython",
    "version": 3
   },
   "file_extension": ".py",
   "mimetype": "text/x-python",
   "name": "python",
   "nbconvert_exporter": "python",
   "pygments_lexer": "ipython3",
   "version": "3.8.3-final"
  }
 },
 "nbformat": 4,
 "nbformat_minor": 5
}